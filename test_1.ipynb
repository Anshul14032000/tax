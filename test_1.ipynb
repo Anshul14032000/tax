{
 "cells": [
  {
   "cell_type": "code",
   "execution_count": 1,
   "id": "4fbb3e8b",
   "metadata": {},
   "outputs": [
    {
     "ename": "IndentationError",
     "evalue": "expected an indented block (<ipython-input-1-de964a76e6b4>, line 4)",
     "output_type": "error",
     "traceback": [
      "\u001b[1;36m  File \u001b[1;32m\"<ipython-input-1-de964a76e6b4>\"\u001b[1;36m, line \u001b[1;32m4\u001b[0m\n\u001b[1;33m    profit= sp-cp:\u001b[0m\n\u001b[1;37m    ^\u001b[0m\n\u001b[1;31mIndentationError\u001b[0m\u001b[1;31m:\u001b[0m expected an indented block\n"
     ]
    }
   ],
   "source": [
    "cp = 500\n",
    "sp = 800\n",
    "if sp >cp:\n",
    "profit= sp-cp:\n",
    "profit_percentage = profit/cp *100\n",
    "print(\"i have a profit of,profit\")\n",
    "print(\"i have made a profit % of,profit_percentage\")\n",
    "else\n",
    "loss = cp-sp\n",
    "loss_percentage = loss/cp *100\n",
    "print(\"i have a loss of,loss\")\n",
    "print(\"i have made a loss % of,loss_percentage\")\n"
   ]
  },
  {
   "cell_type": "code",
   "execution_count": 11,
   "id": "62b1ab27",
   "metadata": {},
   "outputs": [
    {
     "name": "stdout",
     "output_type": "stream",
     "text": [
      "I have a profit 100 rupee\n",
      "I have a profit% 50.0 %\n"
     ]
    }
   ],
   "source": [
    "cp=200\n",
    "sp=300\n",
    "profit=sp-cp\n",
    "profit_per=profit/cp*100\n",
    "print(\"I have a profit\",profit,\"rupee\")\n",
    "print(\"I have a profit%\",profit_per,\"%\")\n"
   ]
  },
  {
   "cell_type": "code",
   "execution_count": 12,
   "id": "dfffdfa6",
   "metadata": {},
   "outputs": [
    {
     "name": "stdout",
     "output_type": "stream",
     "text": [
      "I Have a profit of 300 Rs\n",
      "I Have a profit percentage 60.0 %\n"
     ]
    }
   ],
   "source": [
    "cp=500\n",
    "sp=800\n",
    "if sp>cp:\n",
    "    profit=sp-cp\n",
    "    profit_per=profit/cp*100\n",
    "    print(\"I Have a profit of\",profit,\"Rs\")\n",
    "    print(\"I Have a profit percentage\",profit_per,\"%\")\n",
    "else:\n",
    "    loss=cp-sp\n",
    "    loss_per=loss/cp*100\n",
    "    print(\"I Have a loss of\",loss,\"Rs\")\n",
    "    print(\"I Have a loss percentage\",loss_per,\"%\")\n",
    "    "
   ]
  },
  {
   "cell_type": "code",
   "execution_count": 16,
   "id": "d9b2ae85",
   "metadata": {},
   "outputs": [
    {
     "name": "stdout",
     "output_type": "stream",
     "text": [
      "a is an odd number\n"
     ]
    }
   ],
   "source": [
    "a=7\n",
    "if a%2==0:\n",
    "        print(\"a is an even number\")\n",
    "else:\n",
    "    print(\"a is an odd number\")\n",
    "    \n",
    "    "
   ]
  },
  {
   "cell_type": "code",
   "execution_count": 21,
   "id": "05c56e9a",
   "metadata": {},
   "outputs": [
    {
     "name": "stdout",
     "output_type": "stream",
     "text": [
      "a is a negative number\n"
     ]
    }
   ],
   "source": [
    "a=-1\n",
    "if a>=0:\n",
    "    print(\"a is a positive number\")\n",
    "else:\n",
    "    print(\"a is a negative number\")"
   ]
  },
  {
   "cell_type": "code",
   "execution_count": 22,
   "id": "66723364",
   "metadata": {},
   "outputs": [],
   "source": [
    "# Grade to the student\n"
   ]
  },
  {
   "cell_type": "code",
   "execution_count": 24,
   "id": "6f21d9fc",
   "metadata": {},
   "outputs": [
    {
     "name": "stdout",
     "output_type": "stream",
     "text": [
      "naman is b grade\n"
     ]
    }
   ],
   "source": [
    "naman=80\n",
    "if naman>80:\n",
    "    print(\"naman is a grade\")\n",
    "else:\n",
    "    print(\"naman is b grade\")"
   ]
  },
  {
   "cell_type": "code",
   "execution_count": 54,
   "id": "bae744d6",
   "metadata": {},
   "outputs": [
    {
     "name": "stdout",
     "output_type": "stream",
     "text": [
      "Naman got A grade\n"
     ]
    }
   ],
   "source": [
    "Naman=85\n",
    "Pawan=50\n",
    "Manan=55\n",
    "Raman=40\n",
    "if Naman>80:\n",
    "    print(\"Naman got A grade\")\n",
    "elif Pawan>70:\n",
    "    print(\"Pawan got B grade\")\n",
    "elif Manan>60:\n",
    "    print(\"Manan got C grade\")\n",
    "else:\n",
    "    print(\"Raman got D grade\")\n"
   ]
  },
  {
   "cell_type": "code",
   "execution_count": 45,
   "id": "34edac3c",
   "metadata": {},
   "outputs": [
    {
     "name": "stdout",
     "output_type": "stream",
     "text": [
      "Grade a\n"
     ]
    }
   ],
   "source": [
    "a=100\n",
    "b=40\n",
    "c=50\n",
    "if a>80:\n",
    "    print(\"Grade a\")\n",
    "elif b>=79:\n",
    "    print(\"Grade b\")\n",
    "else:\n",
    "    print(\"Grade c\")"
   ]
  },
  {
   "cell_type": "code",
   "execution_count": 42,
   "id": "e6e1d274",
   "metadata": {},
   "outputs": [
    {
     "name": "stdout",
     "output_type": "stream",
     "text": [
      "The Highest Number is 300\n"
     ]
    }
   ],
   "source": [
    "a=300\n",
    "b=200\n",
    "c=100\n",
    "if a>b:\n",
    "    print(\"The Highest Number is 300\")\n",
    "else:\n",
    "    print(\"The Lowest Number is 100\")"
   ]
  },
  {
   "cell_type": "code",
   "execution_count": 1,
   "id": "7ae431b4",
   "metadata": {},
   "outputs": [
    {
     "ename": "SyntaxError",
     "evalue": "invalid syntax (<ipython-input-1-16b37af0f8d3>, line 2)",
     "output_type": "error",
     "traceback": [
      "\u001b[1;36m  File \u001b[1;32m\"<ipython-input-1-16b37af0f8d3>\"\u001b[1;36m, line \u001b[1;32m2\u001b[0m\n\u001b[1;33m    salary=\"350000-250000*5/100\":\u001b[0m\n\u001b[1;37m                                ^\u001b[0m\n\u001b[1;31mSyntaxError\u001b[0m\u001b[1;31m:\u001b[0m invalid syntax\n"
     ]
    }
   ],
   "source": [
    "aman =350000\n",
    "salary=\"350000-250000*5/100\":\n",
    "    print(\"The incom tax of aman is\",salary,)"
   ]
  },
  {
   "cell_type": "code",
   "execution_count": 2,
   "id": "44e95fcb",
   "metadata": {},
   "outputs": [
    {
     "data": {
      "text/plain": [
       "'C:\\\\Users\\\\anshu\\\\python file'"
      ]
     },
     "execution_count": 2,
     "metadata": {},
     "output_type": "execute_result"
    }
   ],
   "source": [
    "pwd"
   ]
  },
  {
   "cell_type": "code",
   "execution_count": 6,
   "id": "1e4a0772",
   "metadata": {},
   "outputs": [
    {
     "name": "stdout",
     "output_type": "stream",
     "text": [
      "250 is smallest\n"
     ]
    }
   ],
   "source": [
    "a=800\n",
    "b=500\n",
    "c=250\n",
    "if a<b:\n",
    "    if a<c:\n",
    "            print(a,\"is smallest\")\n",
    "    else:\n",
    "            print(b,\"is smallest\")\n",
    "        \n",
    "else:\n",
    "    if b<c:\n",
    "            print(b,\"is smallest\")\n",
    "    else:\n",
    "            print(c,\"is smallest\")\n",
    "    "
   ]
  },
  {
   "cell_type": "code",
   "execution_count": null,
   "id": "c396a222",
   "metadata": {},
   "outputs": [],
   "source": [
    "income=300000\n",
    "if income<250000:\n",
    "    print(\"income is nill\")n\n",
    "    print(\"the income is under  \")\n",
    "    "
   ]
  },
  {
   "cell_type": "code",
   "execution_count": 2,
   "id": "239ae5bc",
   "metadata": {},
   "outputs": [
    {
     "name": "stdout",
     "output_type": "stream",
     "text": [
      "how much lecture is attended by you 150\n",
      "you are allowed to sit in exams\n",
      "your Present % 50.0\n"
     ]
    }
   ],
   "source": [
    "lecture_attended=int(input(\"how much lecture is attended by you \"))\n",
    "lecture=300\n",
    "percentage=lecture_attended/lecture*100\n",
    "if lecture>=225:\n",
    "    print(\"you are allowed to sit in exams\")\n",
    "    print(\"your Present %\",percentage)\n",
    "else:\n",
    "    print(\"you are not allowed to sit in exams\")\n",
    "    print(\"your present %\",percentage)"
   ]
  },
  {
   "cell_type": "code",
   "execution_count": 1,
   "id": "2def4985",
   "metadata": {},
   "outputs": [
    {
     "name": "stdout",
     "output_type": "stream",
     "text": [
      "how much lecture is attended by you 150\n",
      "you are not allowed to sit in exams\n",
      "your present % 50.0 %\n"
     ]
    }
   ],
   "source": [
    "lecture_attended=int(input(\"how much lecture is attended by you \"))\n",
    "lecture=300\n",
    "percentage=lecture_attended/lecture*100\n",
    "if lecture_attended>=225:\n",
    "    print(\"you are allowed to sit in exams\")\n",
    "    print(\"your Present %\",percentage,\"%\")\n",
    "else:\n",
    "    print(\"you are not allowed to sit in exams\")\n",
    "    print(\"your present %\",percentage,\"%\")"
   ]
  },
  {
   "cell_type": "code",
   "execution_count": 3,
   "id": "7d4d6e1f",
   "metadata": {},
   "outputs": [
    {
     "data": {
      "text/plain": [
       "'C:\\\\Users\\\\anshu\\\\python file'"
      ]
     },
     "execution_count": 3,
     "metadata": {},
     "output_type": "execute_result"
    }
   ],
   "source": [
    "pwd"
   ]
  },
  {
   "cell_type": "code",
   "execution_count": null,
   "id": "c1e6eef9",
   "metadata": {},
   "outputs": [],
   "source": []
  }
 ],
 "metadata": {
  "kernelspec": {
   "display_name": "Python 3",
   "language": "python",
   "name": "python3"
  },
  "language_info": {
   "codemirror_mode": {
    "name": "ipython",
    "version": 3
   },
   "file_extension": ".py",
   "mimetype": "text/x-python",
   "name": "python",
   "nbconvert_exporter": "python",
   "pygments_lexer": "ipython3",
   "version": "3.9.5"
  }
 },
 "nbformat": 4,
 "nbformat_minor": 5
}
